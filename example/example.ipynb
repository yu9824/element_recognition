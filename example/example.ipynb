{
 "cells": [
  {
   "source": [
    "### デバッグ用（インストールしている場合は不要）"
   ],
   "cell_type": "markdown",
   "metadata": {}
  },
  {
   "cell_type": "code",
   "execution_count": 1,
   "metadata": {},
   "outputs": [],
   "source": [
    "import sys\n",
    "import os\n",
    "sys.path.append(os.path.join(os.getcwd(), '../element_recognition'))"
   ]
  },
  {
   "source": [
    "### モジュールのインポート"
   ],
   "cell_type": "markdown",
   "metadata": {}
  },
  {
   "cell_type": "code",
   "execution_count": 2,
   "metadata": {},
   "outputs": [],
   "source": [
    "from element_recognition import *"
   ]
  },
  {
   "source": [
    "原料（出発物質）の例"
   ],
   "cell_type": "markdown",
   "metadata": {}
  },
  {
   "cell_type": "code",
   "execution_count": 3,
   "metadata": {},
   "outputs": [],
   "source": [
    "materials = ['Li2O', 'LaO3', 'TiO2']"
   ]
  },
  {
   "source": [
    "## 割合を求めたい場合"
   ],
   "cell_type": "markdown",
   "metadata": {}
  },
  {
   "source": [
    "### 文字列でもOK"
   ],
   "cell_type": "markdown",
   "metadata": {}
  },
  {
   "cell_type": "code",
   "execution_count": 4,
   "metadata": {},
   "outputs": [
    {
     "output_type": "execute_result",
     "data": {
      "text/plain": [
       "                  Li2O  LaO3  TiO2\n",
       "Li0.33La0.5TiO3  0.165   0.5   1.0"
      ],
      "text/html": "<div>\n<style scoped>\n    .dataframe tbody tr th:only-of-type {\n        vertical-align: middle;\n    }\n\n    .dataframe tbody tr th {\n        vertical-align: top;\n    }\n\n    .dataframe thead th {\n        text-align: right;\n    }\n</style>\n<table border=\"1\" class=\"dataframe\">\n  <thead>\n    <tr style=\"text-align: right;\">\n      <th></th>\n      <th>Li2O</th>\n      <th>LaO3</th>\n      <th>TiO2</th>\n    </tr>\n  </thead>\n  <tbody>\n    <tr>\n      <td>Li0.33La0.5TiO3</td>\n      <td>0.165</td>\n      <td>0.5</td>\n      <td>1.0</td>\n    </tr>\n  </tbody>\n</table>\n</div>"
     },
     "metadata": {},
     "execution_count": 4
    }
   ],
   "source": [
    "get_ratio(products = 'Li0.33La0.5TiO3', materials = materials)"
   ]
  },
  {
   "source": [
    "### リストで複数指定もOK"
   ],
   "cell_type": "markdown",
   "metadata": {}
  },
  {
   "cell_type": "code",
   "execution_count": 5,
   "metadata": {},
   "outputs": [
    {
     "output_type": "execute_result",
     "data": {
      "text/plain": [
       "                  Li2O  LaO3  TiO2\n",
       "Li2LaTiO6        1.000   1.0   1.0\n",
       "Li0.33La0.5TiO3  0.165   0.5   1.0"
      ],
      "text/html": "<div>\n<style scoped>\n    .dataframe tbody tr th:only-of-type {\n        vertical-align: middle;\n    }\n\n    .dataframe tbody tr th {\n        vertical-align: top;\n    }\n\n    .dataframe thead th {\n        text-align: right;\n    }\n</style>\n<table border=\"1\" class=\"dataframe\">\n  <thead>\n    <tr style=\"text-align: right;\">\n      <th></th>\n      <th>Li2O</th>\n      <th>LaO3</th>\n      <th>TiO2</th>\n    </tr>\n  </thead>\n  <tbody>\n    <tr>\n      <td>Li2LaTiO6</td>\n      <td>1.000</td>\n      <td>1.0</td>\n      <td>1.0</td>\n    </tr>\n    <tr>\n      <td>Li0.33La0.5TiO3</td>\n      <td>0.165</td>\n      <td>0.5</td>\n      <td>1.0</td>\n    </tr>\n  </tbody>\n</table>\n</div>"
     },
     "metadata": {},
     "execution_count": 5
    }
   ],
   "source": [
    "get_ratio(products = ['Li2LaTiO6', 'Li0.33La0.5TiO3'], materials = materials)"
   ]
  },
  {
   "source": [
    "### match_allをTrueにすると原料から導かれる組成じゃない場合値をNoneにして返す"
   ],
   "cell_type": "markdown",
   "metadata": {}
  },
  {
   "cell_type": "code",
   "execution_count": 6,
   "metadata": {},
   "outputs": [
    {
     "output_type": "execute_result",
     "data": {
      "text/plain": [
       "                 Li2O  LaO3  TiO2\n",
       "Li2LaTiO6           1     1     1\n",
       "Li0.33La0.5TiO3  None  None  None"
      ],
      "text/html": "<div>\n<style scoped>\n    .dataframe tbody tr th:only-of-type {\n        vertical-align: middle;\n    }\n\n    .dataframe tbody tr th {\n        vertical-align: top;\n    }\n\n    .dataframe thead th {\n        text-align: right;\n    }\n</style>\n<table border=\"1\" class=\"dataframe\">\n  <thead>\n    <tr style=\"text-align: right;\">\n      <th></th>\n      <th>Li2O</th>\n      <th>LaO3</th>\n      <th>TiO2</th>\n    </tr>\n  </thead>\n  <tbody>\n    <tr>\n      <td>Li2LaTiO6</td>\n      <td>1</td>\n      <td>1</td>\n      <td>1</td>\n    </tr>\n    <tr>\n      <td>Li0.33La0.5TiO3</td>\n      <td>None</td>\n      <td>None</td>\n      <td>None</td>\n    </tr>\n  </tbody>\n</table>\n</div>"
     },
     "metadata": {},
     "execution_count": 6
    }
   ],
   "source": [
    "get_ratio(products = ['Li2LaTiO6', 'Li0.33La0.5TiO3'], materials = materials, match_all = True)"
   ]
  },
  {
   "source": [
    "### 二度同じ元素が出現してもOK"
   ],
   "cell_type": "markdown",
   "metadata": {}
  },
  {
   "cell_type": "code",
   "execution_count": 7,
   "metadata": {},
   "outputs": [
    {
     "output_type": "execute_result",
     "data": {
      "text/plain": [
       "                 Li2O  LaO3  TiO2\n",
       "Li2(LiLa)2TiO10   2.0   2.0   1.0"
      ],
      "text/html": "<div>\n<style scoped>\n    .dataframe tbody tr th:only-of-type {\n        vertical-align: middle;\n    }\n\n    .dataframe tbody tr th {\n        vertical-align: top;\n    }\n\n    .dataframe thead th {\n        text-align: right;\n    }\n</style>\n<table border=\"1\" class=\"dataframe\">\n  <thead>\n    <tr style=\"text-align: right;\">\n      <th></th>\n      <th>Li2O</th>\n      <th>LaO3</th>\n      <th>TiO2</th>\n    </tr>\n  </thead>\n  <tbody>\n    <tr>\n      <td>Li2(LiLa)2TiO10</td>\n      <td>2.0</td>\n      <td>2.0</td>\n      <td>1.0</td>\n    </tr>\n  </tbody>\n</table>\n</div>"
     },
     "metadata": {},
     "execution_count": 7
    }
   ],
   "source": [
    "get_ratio('Li2(LiLa)2TiO10', materials, match_all = True)"
   ]
  },
  {
   "source": [
    "### ()があってもOK"
   ],
   "cell_type": "markdown",
   "metadata": {}
  },
  {
   "cell_type": "code",
   "execution_count": 8,
   "metadata": {},
   "outputs": [
    {
     "output_type": "execute_result",
     "data": {
      "text/plain": [
       "                 Li2O  LaO3  TiO2\n",
       "((LiLa)2Ti)3O27   3.0   6.0   3.0"
      ],
      "text/html": "<div>\n<style scoped>\n    .dataframe tbody tr th:only-of-type {\n        vertical-align: middle;\n    }\n\n    .dataframe tbody tr th {\n        vertical-align: top;\n    }\n\n    .dataframe thead th {\n        text-align: right;\n    }\n</style>\n<table border=\"1\" class=\"dataframe\">\n  <thead>\n    <tr style=\"text-align: right;\">\n      <th></th>\n      <th>Li2O</th>\n      <th>LaO3</th>\n      <th>TiO2</th>\n    </tr>\n  </thead>\n  <tbody>\n    <tr>\n      <td>((LiLa)2Ti)3O27</td>\n      <td>3.0</td>\n      <td>6.0</td>\n      <td>3.0</td>\n    </tr>\n  </tbody>\n</table>\n</div>"
     },
     "metadata": {},
     "execution_count": 8
    }
   ],
   "source": [
    "get_ratio('((LiLa)2Ti)3O27', materials, match_all = True)"
   ]
  },
  {
   "source": [
    "## 組成名を書き出したい場合"
   ],
   "cell_type": "markdown",
   "metadata": {}
  },
  {
   "source": [
    "### 原料だけあげると自動生成"
   ],
   "cell_type": "markdown",
   "metadata": {}
  },
  {
   "cell_type": "code",
   "execution_count": 9,
   "metadata": {},
   "outputs": [
    {
     "output_type": "execute_result",
     "data": {
      "text/plain": [
       "               H   He    Li   Be    B    C    N     O    F   Ne  ...   Mt  \\\n",
       "Ti14LaO31    0.0  0.0   0.0  0.0  0.0  0.0  0.0  31.0  0.0  0.0  ...  0.0   \n",
       "Ti13La2O32   0.0  0.0   0.0  0.0  0.0  0.0  0.0  32.0  0.0  0.0  ...  0.0   \n",
       "Ti12La3O33   0.0  0.0   0.0  0.0  0.0  0.0  0.0  33.0  0.0  0.0  ...  0.0   \n",
       "Ti11La4O34   0.0  0.0   0.0  0.0  0.0  0.0  0.0  34.0  0.0  0.0  ...  0.0   \n",
       "Ti10La5O35   0.0  0.0   0.0  0.0  0.0  0.0  0.0  35.0  0.0  0.0  ...  0.0   \n",
       "...          ...  ...   ...  ...  ...  ...  ...   ...  ...  ...  ...  ...   \n",
       "Li26Ti2O17   0.0  0.0  26.0  0.0  0.0  0.0  0.0  17.0  0.0  0.0  ...  0.0   \n",
       "Li26TiLaO18  0.0  0.0  26.0  0.0  0.0  0.0  0.0  18.0  0.0  0.0  ...  0.0   \n",
       "Li26La2O19   0.0  0.0  26.0  0.0  0.0  0.0  0.0  19.0  0.0  0.0  ...  0.0   \n",
       "Li28TiO16    0.0  0.0  28.0  0.0  0.0  0.0  0.0  16.0  0.0  0.0  ...  0.0   \n",
       "Li28LaO17    0.0  0.0  28.0  0.0  0.0  0.0  0.0  17.0  0.0  0.0  ...  0.0   \n",
       "\n",
       "              Ds   Rg   Cn   Nh   Fl   Mc   Lv   Ts   Og  \n",
       "Ti14LaO31    0.0  0.0  0.0  0.0  0.0  0.0  0.0  0.0  0.0  \n",
       "Ti13La2O32   0.0  0.0  0.0  0.0  0.0  0.0  0.0  0.0  0.0  \n",
       "Ti12La3O33   0.0  0.0  0.0  0.0  0.0  0.0  0.0  0.0  0.0  \n",
       "Ti11La4O34   0.0  0.0  0.0  0.0  0.0  0.0  0.0  0.0  0.0  \n",
       "Ti10La5O35   0.0  0.0  0.0  0.0  0.0  0.0  0.0  0.0  0.0  \n",
       "...          ...  ...  ...  ...  ...  ...  ...  ...  ...  \n",
       "Li26Ti2O17   0.0  0.0  0.0  0.0  0.0  0.0  0.0  0.0  0.0  \n",
       "Li26TiLaO18  0.0  0.0  0.0  0.0  0.0  0.0  0.0  0.0  0.0  \n",
       "Li26La2O19   0.0  0.0  0.0  0.0  0.0  0.0  0.0  0.0  0.0  \n",
       "Li28TiO16    0.0  0.0  0.0  0.0  0.0  0.0  0.0  0.0  0.0  \n",
       "Li28LaO17    0.0  0.0  0.0  0.0  0.0  0.0  0.0  0.0  0.0  \n",
       "\n",
       "[133 rows x 118 columns]"
      ],
      "text/html": "<div>\n<style scoped>\n    .dataframe tbody tr th:only-of-type {\n        vertical-align: middle;\n    }\n\n    .dataframe tbody tr th {\n        vertical-align: top;\n    }\n\n    .dataframe thead th {\n        text-align: right;\n    }\n</style>\n<table border=\"1\" class=\"dataframe\">\n  <thead>\n    <tr style=\"text-align: right;\">\n      <th></th>\n      <th>H</th>\n      <th>He</th>\n      <th>Li</th>\n      <th>Be</th>\n      <th>B</th>\n      <th>C</th>\n      <th>N</th>\n      <th>O</th>\n      <th>F</th>\n      <th>Ne</th>\n      <th>...</th>\n      <th>Mt</th>\n      <th>Ds</th>\n      <th>Rg</th>\n      <th>Cn</th>\n      <th>Nh</th>\n      <th>Fl</th>\n      <th>Mc</th>\n      <th>Lv</th>\n      <th>Ts</th>\n      <th>Og</th>\n    </tr>\n  </thead>\n  <tbody>\n    <tr>\n      <td>Ti14LaO31</td>\n      <td>0.0</td>\n      <td>0.0</td>\n      <td>0.0</td>\n      <td>0.0</td>\n      <td>0.0</td>\n      <td>0.0</td>\n      <td>0.0</td>\n      <td>31.0</td>\n      <td>0.0</td>\n      <td>0.0</td>\n      <td>...</td>\n      <td>0.0</td>\n      <td>0.0</td>\n      <td>0.0</td>\n      <td>0.0</td>\n      <td>0.0</td>\n      <td>0.0</td>\n      <td>0.0</td>\n      <td>0.0</td>\n      <td>0.0</td>\n      <td>0.0</td>\n    </tr>\n    <tr>\n      <td>Ti13La2O32</td>\n      <td>0.0</td>\n      <td>0.0</td>\n      <td>0.0</td>\n      <td>0.0</td>\n      <td>0.0</td>\n      <td>0.0</td>\n      <td>0.0</td>\n      <td>32.0</td>\n      <td>0.0</td>\n      <td>0.0</td>\n      <td>...</td>\n      <td>0.0</td>\n      <td>0.0</td>\n      <td>0.0</td>\n      <td>0.0</td>\n      <td>0.0</td>\n      <td>0.0</td>\n      <td>0.0</td>\n      <td>0.0</td>\n      <td>0.0</td>\n      <td>0.0</td>\n    </tr>\n    <tr>\n      <td>Ti12La3O33</td>\n      <td>0.0</td>\n      <td>0.0</td>\n      <td>0.0</td>\n      <td>0.0</td>\n      <td>0.0</td>\n      <td>0.0</td>\n      <td>0.0</td>\n      <td>33.0</td>\n      <td>0.0</td>\n      <td>0.0</td>\n      <td>...</td>\n      <td>0.0</td>\n      <td>0.0</td>\n      <td>0.0</td>\n      <td>0.0</td>\n      <td>0.0</td>\n      <td>0.0</td>\n      <td>0.0</td>\n      <td>0.0</td>\n      <td>0.0</td>\n      <td>0.0</td>\n    </tr>\n    <tr>\n      <td>Ti11La4O34</td>\n      <td>0.0</td>\n      <td>0.0</td>\n      <td>0.0</td>\n      <td>0.0</td>\n      <td>0.0</td>\n      <td>0.0</td>\n      <td>0.0</td>\n      <td>34.0</td>\n      <td>0.0</td>\n      <td>0.0</td>\n      <td>...</td>\n      <td>0.0</td>\n      <td>0.0</td>\n      <td>0.0</td>\n      <td>0.0</td>\n      <td>0.0</td>\n      <td>0.0</td>\n      <td>0.0</td>\n      <td>0.0</td>\n      <td>0.0</td>\n      <td>0.0</td>\n    </tr>\n    <tr>\n      <td>Ti10La5O35</td>\n      <td>0.0</td>\n      <td>0.0</td>\n      <td>0.0</td>\n      <td>0.0</td>\n      <td>0.0</td>\n      <td>0.0</td>\n      <td>0.0</td>\n      <td>35.0</td>\n      <td>0.0</td>\n      <td>0.0</td>\n      <td>...</td>\n      <td>0.0</td>\n      <td>0.0</td>\n      <td>0.0</td>\n      <td>0.0</td>\n      <td>0.0</td>\n      <td>0.0</td>\n      <td>0.0</td>\n      <td>0.0</td>\n      <td>0.0</td>\n      <td>0.0</td>\n    </tr>\n    <tr>\n      <td>...</td>\n      <td>...</td>\n      <td>...</td>\n      <td>...</td>\n      <td>...</td>\n      <td>...</td>\n      <td>...</td>\n      <td>...</td>\n      <td>...</td>\n      <td>...</td>\n      <td>...</td>\n      <td>...</td>\n      <td>...</td>\n      <td>...</td>\n      <td>...</td>\n      <td>...</td>\n      <td>...</td>\n      <td>...</td>\n      <td>...</td>\n      <td>...</td>\n      <td>...</td>\n      <td>...</td>\n    </tr>\n    <tr>\n      <td>Li26Ti2O17</td>\n      <td>0.0</td>\n      <td>0.0</td>\n      <td>26.0</td>\n      <td>0.0</td>\n      <td>0.0</td>\n      <td>0.0</td>\n      <td>0.0</td>\n      <td>17.0</td>\n      <td>0.0</td>\n      <td>0.0</td>\n      <td>...</td>\n      <td>0.0</td>\n      <td>0.0</td>\n      <td>0.0</td>\n      <td>0.0</td>\n      <td>0.0</td>\n      <td>0.0</td>\n      <td>0.0</td>\n      <td>0.0</td>\n      <td>0.0</td>\n      <td>0.0</td>\n    </tr>\n    <tr>\n      <td>Li26TiLaO18</td>\n      <td>0.0</td>\n      <td>0.0</td>\n      <td>26.0</td>\n      <td>0.0</td>\n      <td>0.0</td>\n      <td>0.0</td>\n      <td>0.0</td>\n      <td>18.0</td>\n      <td>0.0</td>\n      <td>0.0</td>\n      <td>...</td>\n      <td>0.0</td>\n      <td>0.0</td>\n      <td>0.0</td>\n      <td>0.0</td>\n      <td>0.0</td>\n      <td>0.0</td>\n      <td>0.0</td>\n      <td>0.0</td>\n      <td>0.0</td>\n      <td>0.0</td>\n    </tr>\n    <tr>\n      <td>Li26La2O19</td>\n      <td>0.0</td>\n      <td>0.0</td>\n      <td>26.0</td>\n      <td>0.0</td>\n      <td>0.0</td>\n      <td>0.0</td>\n      <td>0.0</td>\n      <td>19.0</td>\n      <td>0.0</td>\n      <td>0.0</td>\n      <td>...</td>\n      <td>0.0</td>\n      <td>0.0</td>\n      <td>0.0</td>\n      <td>0.0</td>\n      <td>0.0</td>\n      <td>0.0</td>\n      <td>0.0</td>\n      <td>0.0</td>\n      <td>0.0</td>\n      <td>0.0</td>\n    </tr>\n    <tr>\n      <td>Li28TiO16</td>\n      <td>0.0</td>\n      <td>0.0</td>\n      <td>28.0</td>\n      <td>0.0</td>\n      <td>0.0</td>\n      <td>0.0</td>\n      <td>0.0</td>\n      <td>16.0</td>\n      <td>0.0</td>\n      <td>0.0</td>\n      <td>...</td>\n      <td>0.0</td>\n      <td>0.0</td>\n      <td>0.0</td>\n      <td>0.0</td>\n      <td>0.0</td>\n      <td>0.0</td>\n      <td>0.0</td>\n      <td>0.0</td>\n      <td>0.0</td>\n      <td>0.0</td>\n    </tr>\n    <tr>\n      <td>Li28LaO17</td>\n      <td>0.0</td>\n      <td>0.0</td>\n      <td>28.0</td>\n      <td>0.0</td>\n      <td>0.0</td>\n      <td>0.0</td>\n      <td>0.0</td>\n      <td>17.0</td>\n      <td>0.0</td>\n      <td>0.0</td>\n      <td>...</td>\n      <td>0.0</td>\n      <td>0.0</td>\n      <td>0.0</td>\n      <td>0.0</td>\n      <td>0.0</td>\n      <td>0.0</td>\n      <td>0.0</td>\n      <td>0.0</td>\n      <td>0.0</td>\n      <td>0.0</td>\n    </tr>\n  </tbody>\n</table>\n<p>133 rows × 118 columns</p>\n</div>"
     },
     "metadata": {},
     "execution_count": 9
    }
   ],
   "source": [
    "make_compositions(materials)"
   ]
  },
  {
   "source": [
    "### ratioを渡してあげると"
   ],
   "cell_type": "markdown",
   "metadata": {}
  },
  {
   "cell_type": "code",
   "execution_count": 10,
   "metadata": {},
   "outputs": [
    {
     "output_type": "execute_result",
     "data": {
      "text/plain": [
       "             H   He   Li   Be    B    C    N    O    F   Ne  ...   Mt   Ds  \\\n",
       "Li2TiLaO6  0.0  0.0  2.0  0.0  0.0  0.0  0.0  6.0  0.0  0.0  ...  0.0  0.0   \n",
       "\n",
       "            Rg   Cn   Nh   Fl   Mc   Lv   Ts   Og  \n",
       "Li2TiLaO6  0.0  0.0  0.0  0.0  0.0  0.0  0.0  0.0  \n",
       "\n",
       "[1 rows x 118 columns]"
      ],
      "text/html": "<div>\n<style scoped>\n    .dataframe tbody tr th:only-of-type {\n        vertical-align: middle;\n    }\n\n    .dataframe tbody tr th {\n        vertical-align: top;\n    }\n\n    .dataframe thead th {\n        text-align: right;\n    }\n</style>\n<table border=\"1\" class=\"dataframe\">\n  <thead>\n    <tr style=\"text-align: right;\">\n      <th></th>\n      <th>H</th>\n      <th>He</th>\n      <th>Li</th>\n      <th>Be</th>\n      <th>B</th>\n      <th>C</th>\n      <th>N</th>\n      <th>O</th>\n      <th>F</th>\n      <th>Ne</th>\n      <th>...</th>\n      <th>Mt</th>\n      <th>Ds</th>\n      <th>Rg</th>\n      <th>Cn</th>\n      <th>Nh</th>\n      <th>Fl</th>\n      <th>Mc</th>\n      <th>Lv</th>\n      <th>Ts</th>\n      <th>Og</th>\n    </tr>\n  </thead>\n  <tbody>\n    <tr>\n      <td>Li2TiLaO6</td>\n      <td>0.0</td>\n      <td>0.0</td>\n      <td>2.0</td>\n      <td>0.0</td>\n      <td>0.0</td>\n      <td>0.0</td>\n      <td>0.0</td>\n      <td>6.0</td>\n      <td>0.0</td>\n      <td>0.0</td>\n      <td>...</td>\n      <td>0.0</td>\n      <td>0.0</td>\n      <td>0.0</td>\n      <td>0.0</td>\n      <td>0.0</td>\n      <td>0.0</td>\n      <td>0.0</td>\n      <td>0.0</td>\n      <td>0.0</td>\n      <td>0.0</td>\n    </tr>\n  </tbody>\n</table>\n<p>1 rows × 118 columns</p>\n</div>"
     },
     "metadata": {},
     "execution_count": 10
    }
   ],
   "source": [
    "make_compositions(materials, ratio = [1, 1, 1])"
   ]
  },
  {
   "cell_type": "code",
   "execution_count": 11,
   "metadata": {},
   "outputs": [
    {
     "output_type": "execute_result",
     "data": {
      "text/plain": [
       "                H   He   Li   Be    B    C    N     O    F   Ne  ...   Mt  \\\n",
       "Li2Ti3La2O13  0.0  0.0  2.0  0.0  0.0  0.0  0.0  13.0  0.0  0.0  ...  0.0   \n",
       "Li6Ti4La3O20  0.0  0.0  6.0  0.0  0.0  0.0  0.0  20.0  0.0  0.0  ...  0.0   \n",
       "\n",
       "               Ds   Rg   Cn   Nh   Fl   Mc   Lv   Ts   Og  \n",
       "Li2Ti3La2O13  0.0  0.0  0.0  0.0  0.0  0.0  0.0  0.0  0.0  \n",
       "Li6Ti4La3O20  0.0  0.0  0.0  0.0  0.0  0.0  0.0  0.0  0.0  \n",
       "\n",
       "[2 rows x 118 columns]"
      ],
      "text/html": "<div>\n<style scoped>\n    .dataframe tbody tr th:only-of-type {\n        vertical-align: middle;\n    }\n\n    .dataframe tbody tr th {\n        vertical-align: top;\n    }\n\n    .dataframe thead th {\n        text-align: right;\n    }\n</style>\n<table border=\"1\" class=\"dataframe\">\n  <thead>\n    <tr style=\"text-align: right;\">\n      <th></th>\n      <th>H</th>\n      <th>He</th>\n      <th>Li</th>\n      <th>Be</th>\n      <th>B</th>\n      <th>C</th>\n      <th>N</th>\n      <th>O</th>\n      <th>F</th>\n      <th>Ne</th>\n      <th>...</th>\n      <th>Mt</th>\n      <th>Ds</th>\n      <th>Rg</th>\n      <th>Cn</th>\n      <th>Nh</th>\n      <th>Fl</th>\n      <th>Mc</th>\n      <th>Lv</th>\n      <th>Ts</th>\n      <th>Og</th>\n    </tr>\n  </thead>\n  <tbody>\n    <tr>\n      <td>Li2Ti3La2O13</td>\n      <td>0.0</td>\n      <td>0.0</td>\n      <td>2.0</td>\n      <td>0.0</td>\n      <td>0.0</td>\n      <td>0.0</td>\n      <td>0.0</td>\n      <td>13.0</td>\n      <td>0.0</td>\n      <td>0.0</td>\n      <td>...</td>\n      <td>0.0</td>\n      <td>0.0</td>\n      <td>0.0</td>\n      <td>0.0</td>\n      <td>0.0</td>\n      <td>0.0</td>\n      <td>0.0</td>\n      <td>0.0</td>\n      <td>0.0</td>\n      <td>0.0</td>\n    </tr>\n    <tr>\n      <td>Li6Ti4La3O20</td>\n      <td>0.0</td>\n      <td>0.0</td>\n      <td>6.0</td>\n      <td>0.0</td>\n      <td>0.0</td>\n      <td>0.0</td>\n      <td>0.0</td>\n      <td>20.0</td>\n      <td>0.0</td>\n      <td>0.0</td>\n      <td>...</td>\n      <td>0.0</td>\n      <td>0.0</td>\n      <td>0.0</td>\n      <td>0.0</td>\n      <td>0.0</td>\n      <td>0.0</td>\n      <td>0.0</td>\n      <td>0.0</td>\n      <td>0.0</td>\n      <td>0.0</td>\n    </tr>\n  </tbody>\n</table>\n<p>2 rows × 118 columns</p>\n</div>"
     },
     "metadata": {},
     "execution_count": 11
    }
   ],
   "source": [
    "make_compositions(materials, ratio = [[1, 2, 3], [3, 3, 4]])"
   ]
  },
  {
   "source": [
    "### ある組成式を書き下したい場合"
   ],
   "cell_type": "markdown",
   "metadata": {}
  },
  {
   "cell_type": "code",
   "execution_count": 12,
   "metadata": {},
   "outputs": [
    {
     "output_type": "execute_result",
     "data": {
      "text/plain": [
       "'Li6Ti3La6O27'"
      ]
     },
     "metadata": {},
     "execution_count": 12
    }
   ],
   "source": [
    "products = '((LiLa)2Ti)3O27'\n",
    "make_compositions(materials, get_ratio(products, materials, match_all = True)).index[0]"
   ]
  },
  {
   "source": [
    "### 順番を指定することも可能"
   ],
   "cell_type": "markdown",
   "metadata": {}
  },
  {
   "source": [
    "#### 頭から"
   ],
   "cell_type": "markdown",
   "metadata": {}
  },
  {
   "cell_type": "code",
   "execution_count": 13,
   "metadata": {},
   "outputs": [
    {
     "output_type": "execute_result",
     "data": {
      "text/plain": [
       "'O27Ti3Li6La6'"
      ]
     },
     "metadata": {},
     "execution_count": 13
    }
   ],
   "source": [
    "make_compositions(materials, get_ratio(products, materials, match_all = True), front = ['O', 'Ti', 'Li', 'La']).index[0]"
   ]
  },
  {
   "source": [
    "#### 後ろから"
   ],
   "cell_type": "markdown",
   "metadata": {}
  },
  {
   "cell_type": "code",
   "execution_count": 14,
   "metadata": {},
   "outputs": [
    {
     "output_type": "execute_result",
     "data": {
      "text/plain": [
       "'La6Li6Ti3O27'"
      ]
     },
     "metadata": {},
     "execution_count": 14
    }
   ],
   "source": [
    "make_compositions(materials, get_ratio(products, materials, match_all = True), front = [], back = ['O', 'Ti', 'Li', 'La']).index[0]"
   ]
  }
 ],
 "metadata": {
  "kernelspec": {
   "name": "python3",
   "display_name": "Python 3.7.6 64-bit ('py37': conda)",
   "metadata": {
    "interpreter": {
     "hash": "7d6386d0aa921c623506802491c7c614471c4957172b5f532021068336e6a2a9"
    }
   }
  },
  "language_info": {
   "codemirror_mode": {
    "name": "ipython",
    "version": 3
   },
   "file_extension": ".py",
   "mimetype": "text/x-python",
   "name": "python",
   "nbconvert_exporter": "python",
   "pygments_lexer": "ipython3",
   "version": "3.7.6-final"
  }
 },
 "nbformat": 4,
 "nbformat_minor": 4
}